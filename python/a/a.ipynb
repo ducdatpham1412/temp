{
 "cells": [
  {
   "cell_type": "code",
   "execution_count": null,
   "metadata": {},
   "outputs": [],
   "source": [
    "import numpy as np\n",
    "from sklearn.metrics.pairwise import cosine_similarity\n",
    "\n",
    "matrix = np.array([[1, 1], [-1, 1], [1, 2]])\n",
    "\n",
    "mean_matrix = np.array([[1/3, 4/3], [1/3, 4/3], [1/3, 4/3]])\n",
    "\n",
    "cosine_similarity(matrix - mean_matrix, matrix - mean_matrix), cosine_similarity(matrix, matrix)\n",
    "np.ndarray\n",
    "# np.mean(matrix, axis=0)"
   ]
  },
  {
   "cell_type": "code",
   "execution_count": 46,
   "metadata": {},
   "outputs": [
    {
     "data": {
      "text/plain": [
       "[[1, 2], [1, 2]]"
      ]
     },
     "execution_count": 46,
     "metadata": {},
     "output_type": "execute_result"
    }
   ],
   "source": [
    "a = np.array([1, 2])\n",
    "\n",
    "np.append([[1, 2]], [[1, 2], [1, 2]], axis=0)\n",
    "\n",
    "\n",
    "def duplicate_row_to_matrix(row: list, number_rows: int):\n",
    "    append = [row for _ in range(number_rows)]\n",
    "    return np.array(append)\n",
    "\n",
    "duplicate_row_to_matrix([1, 2], number_rows=2).tolist()"
   ]
  }
 ],
 "metadata": {
  "kernelspec": {
   "display_name": "Python 3",
   "language": "python",
   "name": "python3"
  },
  "language_info": {
   "codemirror_mode": {
    "name": "ipython",
    "version": 3
   },
   "file_extension": ".py",
   "mimetype": "text/x-python",
   "name": "python",
   "nbconvert_exporter": "python",
   "pygments_lexer": "ipython3",
   "version": "3.11.7"
  }
 },
 "nbformat": 4,
 "nbformat_minor": 2
}
